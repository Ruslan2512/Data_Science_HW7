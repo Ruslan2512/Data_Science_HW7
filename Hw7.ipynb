{
  "cells": [
    {
      "cell_type": "code",
      "execution_count": null,
      "metadata": {
        "id": "9Kk51SGbZhXJ"
      },
      "outputs": [],
      "source": [
        "!pip install scikit-surprise"
      ]
    },
    {
      "cell_type": "code",
      "source": [
        "from surprise import SVD, SVDpp, NMF\n",
        "from surprise import Dataset\n",
        "from surprise.model_selection import cross_validate"
      ],
      "metadata": {
        "id": "OyfrG0Aki8N6"
      },
      "execution_count": null,
      "outputs": []
    },
    {
      "cell_type": "code",
      "source": [
        "# алгоритм SVD\n",
        "data = Dataset.load_builtin('ml-100k')\n",
        "\n",
        "algo = SVD()\n",
        "\n",
        "algoSVD = cross_validate(algo, data, measures=['RMSE', 'MAE'], cv=5, verbose=True)\n",
        "\n",
        "print(algoSVD['test_rmse'].mean())\n",
        "print(algoSVD['test_mae'].mean())"
      ],
      "metadata": {
        "id": "pqaK3vDGjm7i"
      },
      "execution_count": null,
      "outputs": []
    },
    {
      "cell_type": "markdown",
      "source": [
        "Evaluating RMSE, MAE of algorithm SVD on 5 split(s).\n",
        "\n",
        "                  Fold 1  Fold 2  Fold 3  Fold 4  Fold 5  Mean    Std     \n",
        "RMSE (testset)    0.9331  0.9444  0.9303  0.9330  0.9377  0.9357  0.0049  \n",
        "MAE (testset)     0.7354  0.7439  0.7324  0.7362  0.7396  0.7375  0.0039  \n",
        "Fit time          1.60    1.35    1.34    1.48    1.88    1.53    0.20    \n",
        "Test time         0.23    0.12    0.25    0.21    0.12    0.19    0.05    \n",
        "0.9357080616629382\n",
        "0.7374986452237742"
      ],
      "metadata": {
        "id": "l1L4gpv542Ia"
      }
    },
    {
      "cell_type": "code",
      "source": [
        "# алгоритм SVD++\n",
        "algoSVDpp = SVDpp()\n",
        "\n",
        "resultSVDpp = cross_validate(algoSVDpp, data, measures=['RMSE', 'MAE'], cv=5, verbose=True)\n",
        "\n",
        "print(resultSVDpp['test_rmse'].mean())\n",
        "print(resultSVDpp['test_mae'].mean())"
      ],
      "metadata": {
        "id": "cV9xzxK0j1pS"
      },
      "execution_count": null,
      "outputs": []
    },
    {
      "cell_type": "markdown",
      "source": [
        "Evaluating RMSE, MAE of algorithm SVDpp on 5 split(s).\n",
        "\n",
        "                  Fold 1  Fold 2  Fold 3  Fold 4  Fold 5  Mean    Std     \n",
        "RMSE (testset)    0.9139  0.9245  0.9147  0.9184  0.9231  0.9189  0.0043  \n",
        "MAE (testset)     0.7159  0.7263  0.7183  0.7202  0.7260  0.7213  0.0042  \n",
        "Fit time          26.99   26.96   27.20   26.70   27.35   27.04   0.22    \n",
        "Test time         4.49    8.43    5.33    4.33    5.38    5.59    1.48    \n",
        "0.9189049679414696\n",
        "0.721341862105545"
      ],
      "metadata": {
        "id": "tpA53tWI5F5Z"
      }
    },
    {
      "cell_type": "code",
      "source": [
        "# алгоритм NMF\n",
        "algoNMF = NMF()\n",
        "\n",
        "resultNMF = cross_validate(algoNMF, data, measures=['RMSE', 'MAE'], cv=5, verbose=True)\n",
        "\n",
        "print(resultNMF['test_rmse'].mean())\n",
        "print(resultNMF['test_mae'].mean())"
      ],
      "metadata": {
        "id": "bc0axlZJkula"
      },
      "execution_count": null,
      "outputs": []
    },
    {
      "cell_type": "markdown",
      "source": [
        "Evaluating RMSE, MAE of algorithm NMF on 5 split(s).\n",
        "\n",
        "                  Fold 1  Fold 2  Fold 3  Fold 4  Fold 5  Mean    Std     \n",
        "RMSE (testset)    0.9634  0.9632  0.9577  0.9658  0.9550  0.9610  0.0040  \n",
        "MAE (testset)     0.7578  0.7587  0.7531  0.7575  0.7524  0.7559  0.0026  \n",
        "Fit time          2.63    2.07    2.03    2.34    2.44    2.31    0.23    \n",
        "Test time         0.20    0.11    0.21    0.11    0.31    0.19    0.08    \n",
        "0.9610120945218015\n",
        "0.755881221847619"
      ],
      "metadata": {
        "id": "leK1Es7z5NZz"
      }
    }
  ],
  "metadata": {
    "colab": {
      "private_outputs": true,
      "provenance": []
    },
    "kernelspec": {
      "display_name": "Python 3",
      "language": "python",
      "name": "python3"
    },
    "language_info": {
      "codemirror_mode": {
        "name": "ipython",
        "version": 3
      },
      "file_extension": ".py",
      "mimetype": "text/x-python",
      "name": "python",
      "nbconvert_exporter": "python",
      "pygments_lexer": "ipython3",
      "version": "3.8.5"
    }
  },
  "nbformat": 4,
  "nbformat_minor": 0
}